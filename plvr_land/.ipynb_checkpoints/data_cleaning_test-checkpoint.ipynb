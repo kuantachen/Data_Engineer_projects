{
 "cells": [
  {
   "cell_type": "code",
   "execution_count": null,
   "id": "e08fa7f3",
   "metadata": {
    "scrolled": false
   },
   "outputs": [],
   "source": [
    "import pandas as pd\n",
    "import re\n",
    "import cn2an\n",
    "\n",
    "\n",
    "def c_df():\n",
    "    \n",
    "    # 讀取檔案、建立 dataframe 物件\n",
    "\n",
    "    city_list = ['a', 'b', 'e', 'f', 'h']\n",
    "\n",
    "    dataframe_list = []\n",
    "\n",
    "    for i in range(len(city_list)):\n",
    "        temp_df = pd.read_csv('land_data/' + city_list[i] + '_lvr_land_a.csv')\n",
    "        dataframe_list.append(temp_df)\n",
    "    \n",
    "    df_a = dataframe_list[0].iloc[1: , :]\n",
    "    df_b = dataframe_list[1].iloc[1: , :]\n",
    "    df_e = dataframe_list[2].iloc[1: , :]\n",
    "    df_f = dataframe_list[3].iloc[1: , :]\n",
    "    df_h = dataframe_list[4].iloc[1: , :]\n",
    "    \n",
    "\n",
    "def m_df():\n",
    "    \n",
    "    # 合併 dataframe 物件\n",
    "    df_all = pd.concat([df_a, df_b, df_e, df_f, df_h], axis=0, ignore_index=True)\n",
    "    \n",
    "def fil_df():\n",
    "    \n",
    "    # 篩選【 主要用途 】 為 【 住家用 】\n",
    "    df_housing = df_all.query(\"主要用途 == '住家用'\")\n",
    "    \n",
    "    # 篩選【 建物型態 】 為 【 住宅大樓 】\n",
    "    df_hous_building = df_housing[df_housing['建物型態'].apply(lambda x: True if re.search('^住宅大樓', x) else False)]\n",
    "       \n",
    "    # 抓出剩餘的 index\n",
    "    index_list = []\n",
    "    for i in df_hous_building.index:\n",
    "        index_list.append(i)\n",
    "    \n",
    "    # 將樓層中文轉成數字(int)\n",
    "    for j in index_list:\n",
    "        df_hous_building['總樓層數'][j] = cn2an.transform(df_hous_building['總樓層數'][j], \"cn2an\")\n",
    "        df_hous_building['總樓層數'][j] = int(df_hous_building['總樓層數'][j].replace(\"層\", \"\"))\n",
    "        \n",
    "    # 篩選總樓層數大於等於十三層的資料\n",
    "    df_layer = df_hous_building.query(\"總樓層數 >= 13\")\n",
    "\n",
    "    # 抓出剩餘的 index\n",
    "    index2_list = []\n",
    "    for i in df_layer.index:\n",
    "        index2_list.append(i)\n",
    "\n",
    "    # 將樓層從數字再轉回中文小寫\n",
    "    for j in index2_list:\n",
    "        df_layer['總樓層數'][j] = cn2an.an2cn(df_layer['總樓層數'][j], \"low\")\n",
    "        df_layer['總樓層數'][j] = str(df_layer['總樓層數'][j]) + \"層\"\n",
    "        \n",
    "def output_csv():\n",
    "    df_layer.to_csv('filter_a.csv')\n",
    "    \n",
    "\n",
    "if __name__ == \"__main__\":\n",
    "    c_df()\n",
    "    m_df()\n",
    "    fil_df()\n",
    "    output_csv()"
   ]
  },
  {
   "cell_type": "code",
   "execution_count": 1,
   "id": "9a08a6dc",
   "metadata": {},
   "outputs": [],
   "source": [
    "import pandas as pd\n",
    "import re\n",
    "import cn2an\n",
    "\n",
    "def c_df():\n",
    "    \n",
    "    # 讀取檔案、建立 dataframe 物件\n",
    "\n",
    "    city_list = ['a', 'b', 'e', 'f', 'h']\n",
    "\n",
    "    dataframe_list = []\n",
    "\n",
    "    for i in range(len(city_list)):\n",
    "        temp_df = pd.read_csv('land_data/' + city_list[i] + '_lvr_land_a.csv')\n",
    "        dataframe_list.append(temp_df)\n",
    "    \n",
    "    df_a = dataframe_list[0].iloc[1: , :]\n",
    "    df_b = dataframe_list[1].iloc[1: , :]\n",
    "    df_e = dataframe_list[2].iloc[1: , :]\n",
    "    df_f = dataframe_list[3].iloc[1: , :]\n",
    "    df_h = dataframe_list[4].iloc[1: , :]\n",
    "\n",
    "    \n",
    "def m_df():\n",
    "    \n",
    "    # 合併 dataframe 物件\n",
    "    df_all = pd.concat([df_a, df_b, df_e, df_f, df_h], axis=0, ignore_index=True)\n",
    "    \n",
    "def filter_b():\n",
    "    \n",
    "    # 計算【總件數】\n",
    "    total_count = len(df_all.index)\n",
    "\n",
    "    print('總件數: ' + str(total_count) + '件')\n",
    "\n",
    "    \n",
    "    # 計算【總車位數】\n",
    "    regex = \"[\\u4e00-\\u9fa5]{2}[0-9]{1,}[\\u4e00-\\u9fa5]{2}[0-9]{1,}[\\u4e00-\\u9fa5]{2}\"\n",
    "\n",
    "    for i in range(len(df_all.index)):\n",
    "        if type(df_all['交易筆棟數'].iloc[i]) != int:\n",
    "            df_all['車位數'][i] = int(re.sub(regex, '', df_all['交易筆棟數'].iloc[i]))\n",
    "\n",
    "    total_park = df_all['車位數'].sum()\n",
    "    print('總車位數: ' + str(total_park) + \"個車位\")\n",
    "\n",
    "\n",
    "    # 計算【平均總價元】\n",
    "    for i in range(len(df_all.index)):\n",
    "        df_all['總價元'][i] = int(df_all['總價元'][i])\n",
    "    \n",
    "    total_amount = df_all['總價元'].sum()\n",
    "    average_amount = round(total_amount / total_count, 2)\n",
    "\n",
    "    print('平均總價元: ' + str(average_amount) + '元')\n",
    "    \n",
    "    # 計算【平均車位總價元】\n",
    "    for i in range(len(df_all.index)):\n",
    "        if type(df_all['車位總價元'].iloc[i]) != int:\n",
    "            df_all['車位總價元'][i] = int(df_all['車位總價元'][i])\n",
    "\n",
    "    total_park_dollar = df_all['車位總價元'].sum()\n",
    "    avg_park_dollar = round(total_park_dollar / total_park, 2)\n",
    "\n",
    "    print('平均車位總價元: ' + str(avg_park_dollar) + \"元\")\n",
    "    \n",
    "    # 整理成 filter_b dataframe\n",
    "    filter_dict = {'總件數': [total_count], \n",
    "               '總車位數': [total_park], \n",
    "               '平均總價元': [average_amount], \n",
    "               '平均車位總價元': [avg_park_dollar]}\n",
    "\n",
    "    df_filter = pd.DataFrame.from_dict(filter_dict)\n",
    "    \n",
    "    \n",
    "    # 匯出 filter_b.csv    \n",
    "    df_filter.to_csv('filter_b.csv')\n",
    "    \n",
    "if __name__ == \"__main__\":\n",
    "    c_df()\n",
    "    m_df()\n",
    "    filter_b()"
   ]
  },
  {
   "cell_type": "code",
   "execution_count": 15,
   "id": "04b30270",
   "metadata": {},
   "outputs": [
    {
     "name": "stdout",
     "output_type": "stream",
     "text": [
      "總件數: 3850件\n"
     ]
    }
   ],
   "source": [
    "# 計算【總件數】\n",
    "total_count = len(df_all.index)\n",
    "\n",
    "print('總件數: ' + str(total_count) + '件')"
   ]
  },
  {
   "cell_type": "code",
   "execution_count": 16,
   "id": "2600c0a6",
   "metadata": {},
   "outputs": [
    {
     "name": "stderr",
     "output_type": "stream",
     "text": [
      "<ipython-input-16-272cba10ff93>:3: SettingWithCopyWarning: \n",
      "A value is trying to be set on a copy of a slice from a DataFrame\n",
      "\n",
      "See the caveats in the documentation: https://pandas.pydata.org/pandas-docs/stable/user_guide/indexing.html#returning-a-view-versus-a-copy\n",
      "  df_all['總價元'][i] = int(df_all['總價元'][i])\n"
     ]
    },
    {
     "name": "stdout",
     "output_type": "stream",
     "text": [
      "平均總價元: 14492507.67元\n"
     ]
    }
   ],
   "source": [
    "# 計算【平均總價元】\n",
    "for i in range(len(df_all.index)):\n",
    "    df_all['總價元'][i] = int(df_all['總價元'][i])\n",
    "    \n",
    "total_amount = df_all['總價元'].sum()\n",
    "average_amount = round(total_amount / total_count, 2)\n",
    "\n",
    "print('平均總價元: ' + str(average_amount) + '元')"
   ]
  },
  {
   "cell_type": "code",
   "execution_count": 17,
   "id": "be10e35a",
   "metadata": {},
   "outputs": [
    {
     "name": "stderr",
     "output_type": "stream",
     "text": [
      "<ipython-input-17-b7d98b3e3411>:7: SettingWithCopyWarning: \n",
      "A value is trying to be set on a copy of a slice from a DataFrame\n",
      "\n",
      "See the caveats in the documentation: https://pandas.pydata.org/pandas-docs/stable/user_guide/indexing.html#returning-a-view-versus-a-copy\n",
      "  df_all['車位數'][i] = int(re.sub(regex, '', df_all['交易筆棟數'].iloc[i]))\n"
     ]
    },
    {
     "name": "stdout",
     "output_type": "stream",
     "text": [
      "總車位數: 1825個車位\n"
     ]
    }
   ],
   "source": [
    "# 計算【總車位數】\n",
    "\n",
    "regex = \"[\\u4e00-\\u9fa5]{2}[0-9]{1,}[\\u4e00-\\u9fa5]{2}[0-9]{1,}[\\u4e00-\\u9fa5]{2}\"\n",
    "\n",
    "for i in range(len(df_all.index)):\n",
    "    if type(df_all['交易筆棟數'].iloc[i]) != int:\n",
    "        df_all['車位數'][i] = int(re.sub(regex, '', df_all['交易筆棟數'].iloc[i]))\n",
    "\n",
    "total_park = df_all['車位數'].sum()\n",
    "\n",
    "print('總車位數: ' + str(total_park) + \"個車位\")"
   ]
  },
  {
   "cell_type": "code",
   "execution_count": 18,
   "id": "774d0b17",
   "metadata": {},
   "outputs": [
    {
     "name": "stdout",
     "output_type": "stream",
     "text": [
      "平均車位總價元: 1019978.62元\n"
     ]
    }
   ],
   "source": [
    "# 計算【平均車位總價元】\n",
    "\n",
    "for i in range(len(df_all.index)):\n",
    "    if type(df_all['車位總價元'].iloc[i]) != int:\n",
    "        df_all['車位總價元'][i] = int(df_all['車位總價元'][i])\n",
    "\n",
    "total_park_dollar = df_all['車位總價元'].sum()\n",
    "avg_park_dollar = round(total_park_dollar / total_park, 2)\n",
    "\n",
    "print('平均車位總價元: ' + str(avg_park_dollar) + \"元\")"
   ]
  },
  {
   "cell_type": "code",
   "execution_count": 21,
   "id": "9da74d01",
   "metadata": {},
   "outputs": [
    {
     "data": {
      "text/html": [
       "<div>\n",
       "<style scoped>\n",
       "    .dataframe tbody tr th:only-of-type {\n",
       "        vertical-align: middle;\n",
       "    }\n",
       "\n",
       "    .dataframe tbody tr th {\n",
       "        vertical-align: top;\n",
       "    }\n",
       "\n",
       "    .dataframe thead th {\n",
       "        text-align: right;\n",
       "    }\n",
       "</style>\n",
       "<table border=\"1\" class=\"dataframe\">\n",
       "  <thead>\n",
       "    <tr style=\"text-align: right;\">\n",
       "      <th></th>\n",
       "      <th>總件數</th>\n",
       "      <th>總車位數</th>\n",
       "      <th>平均總價元</th>\n",
       "      <th>平均車位總價元</th>\n",
       "    </tr>\n",
       "  </thead>\n",
       "  <tbody>\n",
       "    <tr>\n",
       "      <th>0</th>\n",
       "      <td>3850</td>\n",
       "      <td>1825</td>\n",
       "      <td>14492507.67</td>\n",
       "      <td>1019978.62</td>\n",
       "    </tr>\n",
       "  </tbody>\n",
       "</table>\n",
       "</div>"
      ],
      "text/plain": [
       "    總件數  總車位數        平均總價元     平均車位總價元\n",
       "0  3850  1825  14492507.67  1019978.62"
      ]
     },
     "execution_count": 21,
     "metadata": {},
     "output_type": "execute_result"
    }
   ],
   "source": [
    "filter_dict = {'總件數': [total_count], \n",
    "               '總車位數': [total_park], \n",
    "               '平均總價元': [average_amount], \n",
    "               '平均車位總價元': [avg_park_dollar]}\n",
    "\n",
    "df_filter = pd.DataFrame.from_dict(filter_dict)\n",
    "df_filter"
   ]
  }
 ],
 "metadata": {
  "kernelspec": {
   "display_name": "Python 3",
   "language": "python",
   "name": "python3"
  },
  "language_info": {
   "codemirror_mode": {
    "name": "ipython",
    "version": 3
   },
   "file_extension": ".py",
   "mimetype": "text/x-python",
   "name": "python",
   "nbconvert_exporter": "python",
   "pygments_lexer": "ipython3",
   "version": "3.8.8"
  }
 },
 "nbformat": 4,
 "nbformat_minor": 5
}
